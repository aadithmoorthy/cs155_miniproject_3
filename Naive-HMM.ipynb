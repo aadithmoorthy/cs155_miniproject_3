{
 "cells": [
  {
   "cell_type": "markdown",
   "metadata": {},
   "source": [
    "## Imports"
   ]
  },
  {
   "cell_type": "code",
   "execution_count": 1,
   "metadata": {},
   "outputs": [],
   "source": [
    "import numpy as np\n",
    "import string\n",
    "import sonnetTools as tools\n",
    "from hmmlearn import hmm\n",
    "import warnings\n",
    "from sklearn.preprocessing import LabelEncoder\n",
    "\n",
    "# Scikit learn has a bug. Fixed in unreleased version\n",
    "warnings.filterwarnings(\"ignore\", category=DeprecationWarning)"
   ]
  },
  {
   "cell_type": "markdown",
   "metadata": {},
   "source": [
    "## Helper Functions"
   ]
  },
  {
   "cell_type": "code",
   "execution_count": 2,
   "metadata": {},
   "outputs": [],
   "source": [
    "def generateLine(HMModel, encoder, BiDict, syllableDict, lineSyllableCountTarget=10):\n",
    "    currentLine = []\n",
    "    currentPossibleSyllableCounts = [0]\n",
    "    generatingLine = True\n",
    "    while generatingLine:\n",
    "        # Generate potential next word\n",
    "        nextWordEncoded = HMModel.sample(1)[0].flatten()\n",
    "        # Decode the word and convert to a string\n",
    "        nextWordNumeric = encoder.inverse_transform(nextWordEncoded)[0]\n",
    "        nextWordString = BiDict[nextWordNumeric]\n",
    "        # Find possible syllable counts for the word\n",
    "        possibleSyllables = syllableDict[nextWordString]\n",
    "        # Given all previous syllable counts, check if the\n",
    "        # new word produces a potentially valid line\n",
    "        updatedPossibleSyllableCounts = []\n",
    "        for lineSyllableCount in currentPossibleSyllableCounts:\n",
    "            for wordSyllables in possibleSyllables:\n",
    "                # If 'E' is in the possible word syllable count,\n",
    "                # it indicates a syllable count which is only\n",
    "                # valid if this is the final word. Check that\n",
    "                # this word can end the line.\n",
    "                if 'E' in wordSyllables:\n",
    "                    count = int(wordSyllables.strip('E'))\n",
    "                    if (lineSyllableCount + count == lineSyllableCountTarget):\n",
    "                        # Can terminate the line in a valid way\n",
    "                        updatedPossibleSyllableCounts.append(lineSyllableCount+count)\n",
    "                else:\n",
    "                    # Otherwise, syllable count can be used anywhere in the line\n",
    "                    count = int(wordSyllables)\n",
    "                    updatedPossibleSyllableCounts.append(lineSyllableCount+count)\n",
    "        # We have now enumerated all possible syllable count up to this point\n",
    "        if any([counts==lineSyllableCountTarget for counts in updatedPossibleSyllableCounts]):\n",
    "            # If there is a possible way to match the target number of syllables, end the line\n",
    "            currentLine.append(nextWordString)\n",
    "            generatingLine = False\n",
    "        else:\n",
    "            # We cannot end the line with the current word\n",
    "            # Remove all possible syllable counts which are greater than the target number\n",
    "            # of syllables.\n",
    "            updatedPossibleSyllableCounts = [count for count in updatedPossibleSyllableCounts \\\n",
    "                                                             if count <= lineSyllableCountTarget]\n",
    "            # Check if there are any possible counts to build off of in the next step. If not,\n",
    "            # the current word is a dead-end that pushed the line over the syllable limit.\n",
    "            if updatedPossibleSyllableCounts != []:\n",
    "                # Still have some possible counts to work with.\n",
    "                # Add the current word to the line.\n",
    "                currentLine.append(nextWordString)\n",
    "                currentPossibleSyllableCounts = updatedPossibleSyllableCounts\n",
    "            else:\n",
    "                # The current word is a dead-end. \n",
    "                pass\n",
    "    return currentLine\n",
    "\n",
    "def generateSonnet(HMModel, encoder, BiDict, syllableDict):\n",
    "    sonnet = []\n",
    "    # Generate 14 sonnet lines\n",
    "    for j in range(14):\n",
    "        line = generateLine(HMModel, encoder, BiDict, syllableDict)\n",
    "        sonnet.append(line)\n",
    "    return sonnet\n",
    "\n",
    "def writeSonnetsToFile(sonnets, filepath, header=None):\n",
    "    f = open(filepath, 'w+')\n",
    "    if header!=None:\n",
    "        f.write(header)\n",
    "        f.write('\\n\\n')\n",
    "    for sonnet in sonnets:\n",
    "        for lineInd in range(len(sonnet)):\n",
    "            line = sonnet[lineInd]\n",
    "            strLine = ' '.join(line)\n",
    "            if lineInd%2 == 0:\n",
    "                # Even index lines are the start of sentences\n",
    "                strLine = strLine.capitalize() + ',\\n'\n",
    "            else:\n",
    "                # Odd index lines are the end of sentences\n",
    "                strLine = strLine + '.\\n'\n",
    "            f.write(strLine)\n",
    "        f.write('\\n')\n",
    "    return\n",
    "    \n",
    "def formatSonnetToText(sonnet):\n",
    "    textSonnet = ''\n",
    "    for lineInd in range(len(sonnet)):\n",
    "        line = sonnet[lineInd]\n",
    "        strLine = ' '.join(line)\n",
    "        if lineInd%2 == 0:\n",
    "            # Even index lines are the start of sentences\n",
    "            strLine = strLine.capitalize() + ',\\n'\n",
    "        else:\n",
    "            # Odd index lines are the end of sentences\n",
    "            strLine = strLine + '.\\n'\n",
    "        textSonnet = textSonnet + strLine\n",
    "    return textSonnet\n",
    "\n",
    "def trainHMM(preparedSonnets, sonnetLengths, n_states):\n",
    "    model = hmm.MultinomialHMM(n_components=n_states)\n",
    "    model.fit(preparedSonnets, lengths=sonnetLengths)\n",
    "    return model"
   ]
  },
  {
   "cell_type": "markdown",
   "metadata": {},
   "source": [
    "## Load Data"
   ]
  },
  {
   "cell_type": "code",
   "execution_count": 3,
   "metadata": {},
   "outputs": [],
   "source": [
    "syllableDict = tools.readInSyllableCounts('data/Syllable_dictionary.txt')\n",
    "BiDict = tools.readInWords('data/Syllable_dictionary.txt')\n",
    "sonnets = tools.readInSonnets('data/shakespeare.txt', syllableDict)"
   ]
  },
  {
   "cell_type": "markdown",
   "metadata": {},
   "source": [
    "## Convert sonnets to a form compatible with the HMM library"
   ]
  },
  {
   "cell_type": "code",
   "execution_count": 4,
   "metadata": {},
   "outputs": [],
   "source": [
    "sonnets = [[[BiDict[word] for word in line] for line in sonnet] for sonnet in sonnets]"
   ]
  },
  {
   "cell_type": "code",
   "execution_count": 5,
   "metadata": {},
   "outputs": [],
   "source": [
    "lineLengths = [[len(line) for line in sonnet] for sonnet in sonnets]\n",
    "flattenedLengths = [length for sonnet in lineLengths for length in sonnet]\n",
    "flattenedSonnets = [word for sonnet in sonnets for line in sonnet for word in line]"
   ]
  },
  {
   "cell_type": "code",
   "execution_count": 6,
   "metadata": {},
   "outputs": [],
   "source": [
    "encoder = LabelEncoder()\n",
    "encoder.fit(flattenedSonnets)\n",
    "encodedSonnets = encoder.transform(flattenedSonnets)\n",
    "hmmPreparedSonnets = encodedSonnets.reshape(-1,1)"
   ]
  },
  {
   "cell_type": "markdown",
   "metadata": {},
   "source": [
    "## Train HMMs"
   ]
  },
  {
   "cell_type": "code",
   "execution_count": 7,
   "metadata": {},
   "outputs": [],
   "source": [
    "stateCounts = [2,4,8,16,32,64]\n",
    "trainedModels = []\n",
    "for n_states in stateCounts:\n",
    "    model = trainHMM(hmmPreparedSonnets, flattenedLengths, n_states)\n",
    "    trainedModels.append(model)"
   ]
  },
  {
   "cell_type": "markdown",
   "metadata": {},
   "source": [
    "## Create and Save Sonnets"
   ]
  },
  {
   "cell_type": "code",
   "execution_count": 8,
   "metadata": {},
   "outputs": [],
   "source": [
    "n_sonnets = 10 # Sonnets to make per model\n",
    "for ind in range(len(stateCounts)):\n",
    "    n_states = stateCounts[ind]\n",
    "    model = trainedModels[ind]\n",
    "    sonnets = [generateSonnet(model, encoder, BiDict, syllableDict) for _ in range(n_sonnets)]\n",
    "    title = \"Naive Hidden Markov Model: %d hidden states\" % n_states\n",
    "    filetarget = \"naiveHMM-%02d-states.txt\" % n_states\n",
    "    writeSonnetsToFile(sonnets, filetarget, header=title)"
   ]
  }
 ],
 "metadata": {
  "kernelspec": {
   "display_name": "Python 3",
   "language": "python",
   "name": "python3"
  },
  "language_info": {
   "codemirror_mode": {
    "name": "ipython",
    "version": 3
   },
   "file_extension": ".py",
   "mimetype": "text/x-python",
   "name": "python",
   "nbconvert_exporter": "python",
   "pygments_lexer": "ipython3",
   "version": "3.5.2"
  }
 },
 "nbformat": 4,
 "nbformat_minor": 2
}
